{
 "cells": [
  {
   "cell_type": "code",
   "execution_count": 3,
   "metadata": {
    "collapsed": true
   },
   "outputs": [],
   "source": [
    "import numpy as np\n",
    "import matplotlib.pyplot as plt\n",
    "\n",
    "#from astropy.cosmology import FlatLambdaCDM\n",
    "from astropy.cosmology import Planck15\n",
    "import astropy.units as u\n",
    "\n",
    "from astroquery.ned import Ned\n",
    "\n",
    "\n",
    "%matplotlib inline"
   ]
  },
  {
   "cell_type": "code",
   "execution_count": 6,
   "metadata": {
    "collapsed": true
   },
   "outputs": [],
   "source": [
    "result_table = Ned.query_object(\"3C454.3\")"
   ]
  },
  {
   "cell_type": "code",
   "execution_count": 30,
   "metadata": {
    "collapsed": false
   },
   "outputs": [
    {
     "data": {
      "text/plain": [
       "['No.',\n",
       " 'Object Name',\n",
       " 'RA(deg)',\n",
       " 'DEC(deg)',\n",
       " 'Type',\n",
       " 'Velocity',\n",
       " 'Redshift',\n",
       " 'Redshift Flag',\n",
       " 'Magnitude and Filter',\n",
       " 'Distance (arcmin)',\n",
       " 'References',\n",
       " 'Notes',\n",
       " 'Photometry Points',\n",
       " 'Positions',\n",
       " 'Redshift Points',\n",
       " 'Diameter Points',\n",
       " 'Associations']"
      ]
     },
     "execution_count": 30,
     "metadata": {},
     "output_type": "execute_result"
    }
   ],
   "source": [
    "result_table.colnames"
   ]
  },
  {
   "cell_type": "code",
   "execution_count": 35,
   "metadata": {
    "collapsed": false
   },
   "outputs": [
    {
     "data": {
      "text/html": [
       "&lt;Row index=0 masked=True&gt;\n",
       "<table id=\"table140023209878992\">\n",
       "<thead><tr><th>No.</th><th>Object Name</th><th>RA(deg)</th><th>DEC(deg)</th><th>Type</th><th>Velocity</th><th>Redshift</th><th>Redshift Flag</th><th>Magnitude and Filter</th><th>Distance (arcmin)</th><th>References</th><th>Notes</th><th>Photometry Points</th><th>Positions</th><th>Redshift Points</th><th>Diameter Points</th><th>Associations</th></tr></thead>\n",
       "<thead><tr><th></th><th></th><th>degrees</th><th>degrees</th><th></th><th>km / s</th><th></th><th></th><th></th><th>arcm</th><th></th><th></th><th></th><th></th><th></th><th></th><th></th></tr></thead>\n",
       "<thead><tr><th>int32</th><th>str30</th><th>float64</th><th>float64</th><th>object</th><th>float64</th><th>float64</th><th>object</th><th>object</th><th>float64</th><th>int32</th><th>int32</th><th>int32</th><th>int32</th><th>int32</th><th>int32</th><th>int32</th></tr></thead>\n",
       "<tr><td>1</td><td>3C 454.3</td><td>343.49061999999998</td><td>16.148209999999999</td><td>QSO</td><td>257522.0</td><td>0.85899999999999999</td><td></td><td>16.1</td><td>--</td><td>1061</td><td>21</td><td>297</td><td>42</td><td>26</td><td>0</td><td>0</td></tr>\n",
       "</table>"
      ],
      "text/plain": [
       "<Row index=0 masked=True>\n",
       " No.  Object Name      RA(deg)            DEC(deg)       Type   Velocity        Redshift      Redshift Flag Magnitude and Filter Distance (arcmin) References Notes Photometry Points Positions Redshift Points Diameter Points Associations\n",
       "                       degrees            degrees                km / s                                                                 arcm                                                                                                \n",
       "int32    str30         float64            float64       object  float64         float64           object           object             float64        int32    int32       int32         int32        int32           int32         int32    \n",
       "----- ----------- ------------------ ------------------ ------ ---------- ------------------- ------------- -------------------- ----------------- ---------- ----- ----------------- --------- --------------- --------------- ------------\n",
       "    1    3C 454.3 343.49061999999998 16.148209999999999    QSO   257522.0 0.85899999999999999                               16.1                --       1061    21               297        42              26               0            0"
      ]
     },
     "execution_count": 35,
     "metadata": {},
     "output_type": "execute_result"
    }
   ],
   "source": [
    "result_table[0]"
   ]
  },
  {
   "cell_type": "code",
   "execution_count": 68,
   "metadata": {
    "collapsed": false
   },
   "outputs": [
    {
     "name": "stdout",
     "output_type": "stream",
     "text": [
      "0.859\n"
     ]
    }
   ],
   "source": [
    "z = result_table[0]['Redshift']\n",
    "print z"
   ]
  },
  {
   "cell_type": "code",
   "execution_count": 32,
   "metadata": {
    "collapsed": false
   },
   "outputs": [
    {
     "data": {
      "text/plain": [
       "['H',\n",
       " 'H0',\n",
       " 'Neff',\n",
       " 'Ob',\n",
       " 'Ob0',\n",
       " 'Ode',\n",
       " 'Ode0',\n",
       " 'Odm',\n",
       " 'Odm0',\n",
       " 'Ogamma',\n",
       " 'Ogamma0',\n",
       " 'Ok',\n",
       " 'Ok0',\n",
       " 'Om',\n",
       " 'Om0',\n",
       " 'Onu',\n",
       " 'Onu0',\n",
       " 'Tcmb',\n",
       " 'Tcmb0',\n",
       " 'Tnu',\n",
       " 'Tnu0',\n",
       " '_H0',\n",
       " '_Neff',\n",
       " '_Ob0',\n",
       " '_Ode0',\n",
       " '_Odm0',\n",
       " '_Ogamma0',\n",
       " '_Ok0',\n",
       " '_Om0',\n",
       " '_Onu0',\n",
       " '_Tcmb0',\n",
       " '_Tnu0',\n",
       " '__abstractmethods__',\n",
       " '__class__',\n",
       " '__delattr__',\n",
       " '__dict__',\n",
       " '__doc__',\n",
       " '__format__',\n",
       " '__getattribute__',\n",
       " '__hash__',\n",
       " '__init__',\n",
       " '__module__',\n",
       " '__new__',\n",
       " '__reduce__',\n",
       " '__reduce_ex__',\n",
       " '__repr__',\n",
       " '__setattr__',\n",
       " '__sizeof__',\n",
       " '__str__',\n",
       " '__subclasshook__',\n",
       " '__weakref__',\n",
       " '_abc_cache',\n",
       " '_abc_negative_cache',\n",
       " '_abc_negative_cache_version',\n",
       " '_abc_registry',\n",
       " '_abs_distance_integrand_scalar',\n",
       " '_comoving_distance_z1z2',\n",
       " '_comoving_transverse_distance_z1z2',\n",
       " '_critical_density0',\n",
       " '_h',\n",
       " '_hubble_distance',\n",
       " '_hubble_time',\n",
       " '_inv_efunc_scalar',\n",
       " '_inv_efunc_scalar_args',\n",
       " '_lookback_time_integrand_scalar',\n",
       " '_massivenu',\n",
       " '_massivenu_mass',\n",
       " '_namelead',\n",
       " '_neff_per_nu',\n",
       " '_nmassivenu',\n",
       " '_nmasslessnu',\n",
       " '_nneutrinos',\n",
       " '_nu_y',\n",
       " '_nu_y_list',\n",
       " '_tfunc',\n",
       " '_w_integrand',\n",
       " '_xfunc',\n",
       " 'abs_distance_integrand',\n",
       " 'absorption_distance',\n",
       " 'age',\n",
       " 'angular_diameter_distance',\n",
       " 'angular_diameter_distance_z1z2',\n",
       " 'arcsec_per_kpc_comoving',\n",
       " 'arcsec_per_kpc_proper',\n",
       " 'clone',\n",
       " 'comoving_distance',\n",
       " 'comoving_transverse_distance',\n",
       " 'comoving_volume',\n",
       " 'critical_density',\n",
       " 'critical_density0',\n",
       " 'de_density_scale',\n",
       " 'differential_comoving_volume',\n",
       " 'distmod',\n",
       " 'efunc',\n",
       " 'h',\n",
       " 'has_massive_nu',\n",
       " 'hubble_distance',\n",
       " 'hubble_time',\n",
       " 'inv_efunc',\n",
       " 'kpc_comoving_per_arcmin',\n",
       " 'kpc_proper_per_arcmin',\n",
       " 'lookback_distance',\n",
       " 'lookback_time',\n",
       " 'lookback_time_integrand',\n",
       " 'luminosity_distance',\n",
       " 'm_nu',\n",
       " 'name',\n",
       " 'nu_relative_density',\n",
       " 'scale_factor',\n",
       " 'w']"
      ]
     },
     "execution_count": 32,
     "metadata": {},
     "output_type": "execute_result"
    }
   ],
   "source": [
    "dir(Planck15)"
   ]
  },
  {
   "cell_type": "code",
   "execution_count": 49,
   "metadata": {
    "collapsed": false
   },
   "outputs": [
    {
     "data": {
      "text/latex": [
       "$1629.9308 \\; \\mathrm{Mpc}$"
      ],
      "text/plain": [
       "<Quantity 1629.930814349056 Mpc>"
      ]
     },
     "execution_count": 49,
     "metadata": {},
     "output_type": "execute_result"
    }
   ],
   "source": [
    "Planck15.angular_diameter_distance(z)"
   ]
  },
  {
   "cell_type": "code",
   "execution_count": 41,
   "metadata": {
    "collapsed": false
   },
   "outputs": [
    {
     "data": {
      "text/plain": [
       "0.53792361484669182"
      ]
     },
     "execution_count": 41,
     "metadata": {},
     "output_type": "execute_result"
    }
   ],
   "source": [
    "Planck15.scale_factor(z)"
   ]
  },
  {
   "cell_type": "code",
   "execution_count": null,
   "metadata": {
    "collapsed": true
   },
   "outputs": [],
   "source": [
    "Planck15"
   ]
  },
  {
   "cell_type": "code",
   "execution_count": 43,
   "metadata": {
    "collapsed": false
   },
   "outputs": [
    {
     "data": {
      "text/plain": [
       "0.37087047390175626"
      ]
     },
     "execution_count": 43,
     "metadata": {},
     "output_type": "execute_result"
    }
   ],
   "source": [
    "10/1544.9*180/np.pi"
   ]
  },
  {
   "cell_type": "code",
   "execution_count": 44,
   "metadata": {
    "collapsed": true
   },
   "outputs": [],
   "source": [
    "tangential_distance = [0.5, 1.0, 2.0, 5.0, 10.0] # Mpc\n",
    "diff_radvel = [250.0, 500.0, 1000.0, 2500.0, 5000.0] # km/s"
   ]
  },
  {
   "cell_type": "code",
   "execution_count": 61,
   "metadata": {
    "collapsed": false
   },
   "outputs": [],
   "source": [
    "def searchobject_in_cone(obj, z, tangential_dist):\n",
    "    angular_diameter_distance = Planck15.angular_diameter_distance(z) \n",
    "    theta = np.degrees(tangential_dist/angular_diameter_distance * u.rad) # in degree\n",
    "    \n",
    "    result_table = Ned.query_region(obj, radius=theta)\n",
    "    \n",
    "    return result_table, angular_diameter_distance, theta"
   ]
  },
  {
   "cell_type": "code",
   "execution_count": 63,
   "metadata": {
    "collapsed": false
   },
   "outputs": [],
   "source": [
    "result = searchobject_in_cone(\"3C 454.3\", z, 10*u.Mpc)"
   ]
  },
  {
   "cell_type": "code",
   "execution_count": 65,
   "metadata": {
    "collapsed": false
   },
   "outputs": [
    {
     "data": {
      "text/latex": [
       "$1629.9308 \\; \\mathrm{Mpc}$"
      ],
      "text/plain": [
       "<Quantity 1629.930814349056 Mpc>"
      ]
     },
     "execution_count": 65,
     "metadata": {},
     "output_type": "execute_result"
    }
   ],
   "source": [
    "result[1]"
   ]
  },
  {
   "cell_type": "code",
   "execution_count": 66,
   "metadata": {
    "collapsed": false
   },
   "outputs": [
    {
     "data": {
      "text/latex": [
       "$0.35152277 \\; \\mathrm{{}^{\\circ}}$"
      ],
      "text/plain": [
       "<Quantity 0.3515227702223943 deg>"
      ]
     },
     "execution_count": 66,
     "metadata": {},
     "output_type": "execute_result"
    }
   ],
   "source": [
    "result[2]"
   ]
  },
  {
   "cell_type": "code",
   "execution_count": 67,
   "metadata": {
    "collapsed": false
   },
   "outputs": [
    {
     "data": {
      "text/html": [
       "&lt;Table masked=True length=2400&gt;\n",
       "<table id=\"table140023153396560\" class=\"table-striped table-bordered table-condensed\">\n",
       "<thead><tr><th>No.</th><th>Object Name</th><th>RA(deg)</th><th>DEC(deg)</th><th>Type</th><th>Velocity</th><th>Redshift</th><th>Redshift Flag</th><th>Magnitude and Filter</th><th>Distance (arcmin)</th><th>References</th><th>Notes</th><th>Photometry Points</th><th>Positions</th><th>Redshift Points</th><th>Diameter Points</th><th>Associations</th></tr></thead>\n",
       "<thead><tr><th></th><th></th><th>degrees</th><th>degrees</th><th></th><th>km / s</th><th></th><th></th><th></th><th>arcm</th><th></th><th></th><th></th><th></th><th></th><th></th><th></th></tr></thead>\n",
       "<thead><tr><th>int32</th><th>str30</th><th>float64</th><th>float64</th><th>object</th><th>float64</th><th>float64</th><th>object</th><th>object</th><th>float64</th><th>int32</th><th>int32</th><th>int32</th><th>int32</th><th>int32</th><th>int32</th><th>int32</th></tr></thead>\n",
       "<tr><td>1</td><td>GALEXASC J225230.15+160958.1</td><td>343.12563999999998</td><td>16.166170000000001</td><td>UvS</td><td>--</td><td>--</td><td></td><td></td><td>21.061</td><td>0</td><td>0</td><td>8</td><td>2</td><td>0</td><td>0</td><td>0</td></tr>\n",
       "<tr><td>2</td><td>GALEXMSC J225230.64+161054.0</td><td>343.12768999999997</td><td>16.18167</td><td>UvS</td><td>--</td><td>--</td><td></td><td></td><td>21.010999999999999</td><td>0</td><td>0</td><td>4</td><td>1</td><td>0</td><td>0</td><td>0</td></tr>\n",
       "<tr><td>3</td><td>GALEXASC J225231.24+160947.3</td><td>343.13017000000002</td><td>16.163150000000002</td><td>UvS</td><td>--</td><td>--</td><td></td><td></td><td>20.792000000000002</td><td>0</td><td>0</td><td>8</td><td>2</td><td>0</td><td>0</td><td>0</td></tr>\n",
       "<tr><td>4</td><td>GALEXMSC J225231.31+161111.2</td><td>343.13047999999998</td><td>16.18646</td><td>UvS</td><td>--</td><td>--</td><td></td><td></td><td>20.879999999999999</td><td>0</td><td>0</td><td>4</td><td>1</td><td>0</td><td>0</td><td>0</td></tr>\n",
       "<tr><td>5</td><td>GALEXASC J225231.63+161142.7</td><td>343.13182999999998</td><td>16.1952</td><td>UvS</td><td>--</td><td>--</td><td></td><td></td><td>20.867000000000001</td><td>0</td><td>0</td><td>4</td><td>1</td><td>0</td><td>0</td><td>0</td></tr>\n",
       "<tr><td>6</td><td>AGES J225232+161135</td><td>343.13499999999999</td><td>16.193059999999999</td><td>G</td><td>11710.0</td><td>0.039059999999999997</td><td></td><td></td><td>20.669</td><td>1</td><td>0</td><td>0</td><td>1</td><td>1</td><td>0</td><td>0</td></tr>\n",
       "<tr><td>7</td><td>2MASX J22523310+1607027</td><td>343.13796000000002</td><td>16.117560000000001</td><td>G</td><td>--</td><td>--</td><td></td><td></td><td>20.408999999999999</td><td>0</td><td>0</td><td>17</td><td>2</td><td>0</td><td>2</td><td>0</td></tr>\n",
       "<tr><td>8</td><td>GALEXMSC J225233.60+160623.4</td><td>343.14001000000002</td><td>16.1065</td><td>UvS</td><td>--</td><td>--</td><td></td><td></td><td>20.363</td><td>0</td><td>0</td><td>3</td><td>1</td><td>0</td><td>0</td><td>0</td></tr>\n",
       "<tr><td>9</td><td>GALEXASC J225234.08+161140.2</td><td>343.14202999999998</td><td>16.194520000000001</td><td>UvS</td><td>--</td><td>--</td><td></td><td></td><td>20.279</td><td>0</td><td>0</td><td>8</td><td>2</td><td>0</td><td>0</td><td>0</td></tr>\n",
       "<tr><td>...</td><td>...</td><td>...</td><td>...</td><td>...</td><td>...</td><td>...</td><td>...</td><td>...</td><td>...</td><td>...</td><td>...</td><td>...</td><td>...</td><td>...</td><td>...</td><td>...</td></tr>\n",
       "<tr><td>2391</td><td>GALEXMSC J225519.97+161225.8</td><td>343.83323999999999</td><td>16.207180000000001</td><td>UvS</td><td>--</td><td>--</td><td></td><td></td><td>20.058</td><td>0</td><td>0</td><td>4</td><td>1</td><td>0</td><td>0</td><td>0</td></tr>\n",
       "<tr><td>2392</td><td>GALEXASC J225520.42+160927.1</td><td>343.83510999999999</td><td>16.157530000000001</td><td>UvS</td><td>--</td><td>--</td><td></td><td></td><td>19.861000000000001</td><td>0</td><td>0</td><td>8</td><td>2</td><td>0</td><td>0</td><td>0</td></tr>\n",
       "<tr><td>2393</td><td>GALEXMSC J225520.63+161137.5</td><td>343.83600000000001</td><td>16.193770000000001</td><td>UvS</td><td>--</td><td>--</td><td></td><td></td><td>20.09</td><td>0</td><td>0</td><td>3</td><td>1</td><td>0</td><td>0</td><td>0</td></tr>\n",
       "<tr><td>2394</td><td>GALEXASC J225521.19+161527.5</td><td>343.83830999999998</td><td>16.257670000000001</td><td>UvS</td><td>--</td><td>--</td><td></td><td></td><td>21.082000000000001</td><td>0</td><td>0</td><td>7</td><td>2</td><td>0</td><td>0</td><td>0</td></tr>\n",
       "<tr><td>2395</td><td>GALEXASC J225521.24+160440.0</td><td>343.83852999999999</td><td>16.077780000000001</td><td>UvS</td><td>--</td><td>--</td><td></td><td></td><td>20.495000000000001</td><td>0</td><td>0</td><td>8</td><td>2</td><td>0</td><td>0</td><td>0</td></tr>\n",
       "<tr><td>2396</td><td>GALEXASC J225521.32+161007.7</td><td>343.83884999999998</td><td>16.16882</td><td>UvS</td><td>--</td><td>--</td><td></td><td></td><td>20.106999999999999</td><td>0</td><td>0</td><td>7</td><td>2</td><td>0</td><td>0</td><td>0</td></tr>\n",
       "<tr><td>2397</td><td>GALEXASC J225521.66+160707.3</td><td>343.84026999999998</td><td>16.11872</td><td>UvS</td><td>--</td><td>--</td><td></td><td></td><td>20.231000000000002</td><td>0</td><td>0</td><td>7</td><td>2</td><td>0</td><td>0</td><td>0</td></tr>\n",
       "<tr><td>2398</td><td>GALEXASC J225523.32+160905.8</td><td>343.84719000000001</td><td>16.151610000000002</td><td>UvS</td><td>--</td><td>--</td><td></td><td></td><td>20.550999999999998</td><td>0</td><td>0</td><td>8</td><td>2</td><td>0</td><td>0</td><td>0</td></tr>\n",
       "<tr><td>2399</td><td>GALEXMSC J225523.63+161210.3</td><td>343.84845999999999</td><td>16.20288</td><td>UvS</td><td>--</td><td>--</td><td></td><td></td><td>20.879999999999999</td><td>0</td><td>0</td><td>4</td><td>1</td><td>0</td><td>0</td><td>0</td></tr>\n",
       "<tr><td>2400</td><td>GALEXASC J225524.64+160954.0</td><td>343.85269</td><td>16.165009999999999</td><td>UvS</td><td>--</td><td>--</td><td></td><td></td><td>20.890000000000001</td><td>0</td><td>0</td><td>8</td><td>2</td><td>0</td><td>0</td><td>0</td></tr>\n",
       "</table>"
      ],
      "text/plain": [
       "<Table masked=True length=2400>\n",
       " No.          Object Name          ... Diameter Points Associations\n",
       "                                   ...                             \n",
       "int32            str30             ...      int32         int32    \n",
       "----- ---------------------------- ... --------------- ------------\n",
       "    1 GALEXASC J225230.15+160958.1 ...               0            0\n",
       "    2 GALEXMSC J225230.64+161054.0 ...               0            0\n",
       "    3 GALEXASC J225231.24+160947.3 ...               0            0\n",
       "    4 GALEXMSC J225231.31+161111.2 ...               0            0\n",
       "    5 GALEXASC J225231.63+161142.7 ...               0            0\n",
       "    6          AGES J225232+161135 ...               0            0\n",
       "    7      2MASX J22523310+1607027 ...               2            0\n",
       "    8 GALEXMSC J225233.60+160623.4 ...               0            0\n",
       "    9 GALEXASC J225234.08+161140.2 ...               0            0\n",
       "  ...                          ... ...             ...          ...\n",
       " 2391 GALEXMSC J225519.97+161225.8 ...               0            0\n",
       " 2392 GALEXASC J225520.42+160927.1 ...               0            0\n",
       " 2393 GALEXMSC J225520.63+161137.5 ...               0            0\n",
       " 2394 GALEXASC J225521.19+161527.5 ...               0            0\n",
       " 2395 GALEXASC J225521.24+160440.0 ...               0            0\n",
       " 2396 GALEXASC J225521.32+161007.7 ...               0            0\n",
       " 2397 GALEXASC J225521.66+160707.3 ...               0            0\n",
       " 2398 GALEXASC J225523.32+160905.8 ...               0            0\n",
       " 2399 GALEXMSC J225523.63+161210.3 ...               0            0\n",
       " 2400 GALEXASC J225524.64+160954.0 ...               0            0"
      ]
     },
     "execution_count": 67,
     "metadata": {},
     "output_type": "execute_result"
    }
   ],
   "source": [
    "result[0]"
   ]
  },
  {
   "cell_type": "code",
   "execution_count": null,
   "metadata": {
    "collapsed": true
   },
   "outputs": [],
   "source": []
  }
 ],
 "metadata": {
  "kernelspec": {
   "display_name": "Python 2",
   "language": "python",
   "name": "python2"
  },
  "language_info": {
   "codemirror_mode": {
    "name": "ipython",
    "version": 2
   },
   "file_extension": ".py",
   "mimetype": "text/x-python",
   "name": "python",
   "nbconvert_exporter": "python",
   "pygments_lexer": "ipython2",
   "version": "2.7.12"
  }
 },
 "nbformat": 4,
 "nbformat_minor": 0
}
